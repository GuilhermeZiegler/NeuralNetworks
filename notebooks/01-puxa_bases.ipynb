{
 "cells": [
  {
   "cell_type": "code",
   "execution_count": 10,
   "metadata": {},
   "outputs": [
    {
     "name": "stdout",
     "output_type": "stream",
     "text": [
      "Instalando scikit-learn...\n",
      "Instalando pyarrow...\n",
      "Instalando fastparquet...\n",
      "Todos os pacotes estão instalados.\n"
     ]
    }
   ],
   "source": [
    "import sys\n",
    "import subprocess\n",
    "def install_packages():\n",
    "    required_packages = [\n",
    "        \"MetaTrader5\",\n",
    "        \"numpy\",\n",
    "        \"pandas\",\n",
    "        \"scikit-learn\",\n",
    "        \"joblib\",\n",
    "        \"pyarrow\",\n",
    "        \"fastparquet\"\n",
    "    ]\n",
    "\n",
    "    for package in required_packages:\n",
    "        try:\n",
    "            __import__(package)\n",
    "        except ImportError:\n",
    "            print(f\"Instalando {package}...\")\n",
    "            subprocess.check_call([sys.executable, \"-m\", \"pip\", \"install\", package])\n",
    "    print(\"Todos os pacotes estão instalados.\")\n",
    "\n",
    "install_packages()\n"
   ]
  },
  {
   "cell_type": "code",
   "execution_count": 11,
   "metadata": {},
   "outputs": [],
   "source": [
    "import MetaTrader5 as mt5\n",
    "import pandas as pd\n",
    "from datetime import datetime\n",
    "import MetaTrader5 as mt5\n",
    "from datetime import datetime\n",
    "import os"
   ]
  },
  {
   "cell_type": "code",
   "execution_count": 12,
   "metadata": {},
   "outputs": [],
   "source": [
    "def connect_to_mt5(login: int = None,\n",
    "                   server: str = \"YourServer\", \n",
    "                   password: str = \"YourPassword\") -> bool:\n",
    "    \"\"\"\n",
    "    Connects to MetaTrader 5 using the provided login, server, and password.\n",
    "    \n",
    "    Parameters:\n",
    "    - login: MetaTrader login (default: your provided login).\n",
    "    - server: MetaTrader server (default: your provided server).\n",
    "    - password: MetaTrader password (default: your provided password).\n",
    "    \"\"\"\n",
    "    if not mt5.initialize(login=login, password=password, server=server):\n",
    "        print(\"Failed to connect to MetaTrader 5\")\n",
    "    else:\n",
    "        print(\"Successfully connected to MetaTrader 5\")\n",
    "  \n",
    "def download_and_save_from_mt5(symbols: list = None,\n",
    "                               timeframe = mt5.TIMEFRAME_M15,\n",
    "                               start_date: datetime = None,\n",
    "                               end_date: datetime = datetime.now(),\n",
    "                               save_dir: str = None):\n",
    "                            \n",
    "    \"\"\"\n",
    "    Downloads historical data for multiple assets from MetaTrader 5 and saves the data as CSV and Parquet files.\n",
    "    \n",
    "    Parameters:\n",
    "    - symbols: List of asset symbols to download.\n",
    "    - timeframe: Timeframe for the data (e.g., M15, M1, H1, etc.).\n",
    "    - start_date: Start date for historical data.\n",
    "    - end_date: End date for historical data.\n",
    "    - save_dir: Directory to save the CSV and Parquet files.\n",
    "    - login: MetaTrader login.\n",
    "    - server: MetaTrader server.\n",
    "    - password: MetaTrader password.\n",
    "    \"\"\"\n",
    "\n",
    "    if not os.path.exists(save_dir):\n",
    "        os.makedirs(save_dir)\n",
    "\n",
    "    for symbol in symbols:\n",
    "        \n",
    "        try:\n",
    "            rates = mt5.copy_rates_range(symbol, timeframe, start_date, end_date)\n",
    "            if rates is None or len(rates) == 0:\n",
    "                print(f\"No data found for asset: {symbol}\")\n",
    "                continue\n",
    "\n",
    "            df = pd.DataFrame(rates)\n",
    "            df['time'] = pd.to_datetime(df['time'], unit='s')\n",
    "            first_date = df['time'].iloc[0].strftime('%Y%m%d')\n",
    "            filename_csv = f\"{save_dir}/{symbol}_data_{first_date}.csv\"\n",
    "            filename_parquet = f\"{save_dir}/{symbol}_data_{first_date}.parquet\"\n",
    "            df.to_csv(filename_csv, index=False)\n",
    "            df.to_parquet(filename_parquet, index=False)\n",
    "            print(f\"Data for {symbol} saved to {filename_csv} and {filename_parquet}\")\n",
    "\n",
    "        except Exception as e:\n",
    "            print(f\"Error downloading data for {symbol}: {e}\")\n",
    "\n",
    "    mt5.shutdown()"
   ]
  },
  {
   "cell_type": "code",
   "execution_count": 13,
   "metadata": {},
   "outputs": [],
   "source": [
    "# List of assets\n",
    "assets = [\n",
    "    'BGI$',    # Boi Gordo\n",
    "    'IAGR11',  # Fiagro\n",
    "    'IBOV',    # Bovespa Index\n",
    "    'ICF$',    # Coffee\n",
    "    'CCM$',    # Corn\n",
    "    'SOJA3',   # Soybean\n",
    "    'IVVB11',  # ETF (S&P500)\n",
    "    'GOLD11'   # Gold\n",
    "]\n",
    "\n",
    "# Directory to save the data\n",
    "start_date = datetime(2022,6,1)\n",
    "base_dir = os.path.join('..', 'bases', 'ativos')\n",
    "login = 1016642903\n",
    "server = \"ClearInvestimentos-CLEAR\"\n",
    "password = \"Gigio12345$$\" \n",
    "        "
   ]
  },
  {
   "cell_type": "code",
   "execution_count": 14,
   "metadata": {},
   "outputs": [
    {
     "name": "stdout",
     "output_type": "stream",
     "text": [
      "Successfully connected to MetaTrader 5\n",
      "Data for BGI$ saved to ..\\bases\\ativos/BGI$_data_20220601.csv and ..\\bases\\ativos/BGI$_data_20220601.parquet\n",
      "Data for IAGR11 saved to ..\\bases\\ativos/IAGR11_data_20230210.csv and ..\\bases\\ativos/IAGR11_data_20230210.parquet\n",
      "Data for IBOV saved to ..\\bases\\ativos/IBOV_data_20220601.csv and ..\\bases\\ativos/IBOV_data_20220601.parquet\n",
      "Data for ICF$ saved to ..\\bases\\ativos/ICF$_data_20220601.csv and ..\\bases\\ativos/ICF$_data_20220601.parquet\n",
      "Data for CCM$ saved to ..\\bases\\ativos/CCM$_data_20220601.csv and ..\\bases\\ativos/CCM$_data_20220601.parquet\n",
      "Data for SOJA3 saved to ..\\bases\\ativos/SOJA3_data_20220601.csv and ..\\bases\\ativos/SOJA3_data_20220601.parquet\n",
      "Data for IVVB11 saved to ..\\bases\\ativos/IVVB11_data_20220601.csv and ..\\bases\\ativos/IVVB11_data_20220601.parquet\n",
      "Data for GOLD11 saved to ..\\bases\\ativos/GOLD11_data_20220601.csv and ..\\bases\\ativos/GOLD11_data_20220601.parquet\n"
     ]
    }
   ],
   "source": [
    "connect_to_mt5(login, server, password)\n",
    "download_and_save_from_mt5(symbols=assets, \n",
    "                           timeframe= mt5.TIMEFRAME_M15,\n",
    "                           start_date = start_date,\n",
    "                           save_dir =base_dir )"
   ]
  },
  {
   "cell_type": "code",
   "execution_count": 178,
   "metadata": {},
   "outputs": [],
   "source": [
    "rates = pd.DataFrame(mt5.copy_rates_range('VALE3', mt5.TIMEFRAME_H1, start_date, datetime.now()))"
   ]
  },
  {
   "cell_type": "code",
   "execution_count": 179,
   "metadata": {},
   "outputs": [
    {
     "data": {
      "text/html": [
       "<div>\n",
       "<style scoped>\n",
       "    .dataframe tbody tr th:only-of-type {\n",
       "        vertical-align: middle;\n",
       "    }\n",
       "\n",
       "    .dataframe tbody tr th {\n",
       "        vertical-align: top;\n",
       "    }\n",
       "\n",
       "    .dataframe thead th {\n",
       "        text-align: right;\n",
       "    }\n",
       "</style>\n",
       "<table border=\"1\" class=\"dataframe\">\n",
       "  <thead>\n",
       "    <tr style=\"text-align: right;\">\n",
       "      <th></th>\n",
       "    </tr>\n",
       "  </thead>\n",
       "  <tbody>\n",
       "  </tbody>\n",
       "</table>\n",
       "</div>"
      ],
      "text/plain": [
       "Empty DataFrame\n",
       "Columns: []\n",
       "Index: []"
      ]
     },
     "execution_count": 179,
     "metadata": {},
     "output_type": "execute_result"
    }
   ],
   "source": [
    "rates"
   ]
  },
  {
   "cell_type": "code",
   "execution_count": 167,
   "metadata": {},
   "outputs": [
    {
     "name": "stdout",
     "output_type": "stream",
     "text": [
      "Erro ao baixar os dados históricos.\n"
     ]
    }
   ],
   "source": [
    "\n",
    "symbol = 'VALE3'  # Exemplo: Contrato de Boi Gordo com vencimento em outubro de 2024\n",
    "timeframe = mt5.TIMEFRAME_M30\n",
    "end_time = pd.Timestamp.now()\n",
    "start_time = end_time - pd.Timedelta(days=365)\n",
    "\n",
    "rates = mt5.copy_rates_range(symbol, timeframe, start_time, end_time)\n",
    "\n",
    "if rates is not None:\n",
    "    data = pd.DataFrame(rates)\n",
    "    data['time'] = pd.to_datetime(data['time'], unit='s')\n",
    "    print(data.head())\n",
    "else:\n",
    "    print(\"Erro ao baixar os dados históricos.\")\n"
   ]
  },
  {
   "cell_type": "code",
   "execution_count": null,
   "metadata": {},
   "outputs": [],
   "source": [
    "df = pd.DataFrame(mt5.copy_rates_range('VALE3', \n",
    "                             mt5.TIMEFRAME_M15, \n",
    "                             datetime(2022,10,1), \n",
    "                             datetime.now()))\n"
   ]
  },
  {
   "cell_type": "code",
   "execution_count": 162,
   "metadata": {},
   "outputs": [
    {
     "data": {
      "text/html": [
       "<div>\n",
       "<style scoped>\n",
       "    .dataframe tbody tr th:only-of-type {\n",
       "        vertical-align: middle;\n",
       "    }\n",
       "\n",
       "    .dataframe tbody tr th {\n",
       "        vertical-align: top;\n",
       "    }\n",
       "\n",
       "    .dataframe thead th {\n",
       "        text-align: right;\n",
       "    }\n",
       "</style>\n",
       "<table border=\"1\" class=\"dataframe\">\n",
       "  <thead>\n",
       "    <tr style=\"text-align: right;\">\n",
       "      <th></th>\n",
       "    </tr>\n",
       "  </thead>\n",
       "  <tbody>\n",
       "  </tbody>\n",
       "</table>\n",
       "</div>"
      ],
      "text/plain": [
       "Empty DataFrame\n",
       "Columns: []\n",
       "Index: []"
      ]
     },
     "execution_count": 162,
     "metadata": {},
     "output_type": "execute_result"
    }
   ],
   "source": [
    "df"
   ]
  },
  {
   "cell_type": "code",
   "execution_count": null,
   "metadata": {},
   "outputs": [],
   "source": []
  }
 ],
 "metadata": {
  "kernelspec": {
   "display_name": "pytorch_env",
   "language": "python",
   "name": "python3"
  },
  "language_info": {
   "codemirror_mode": {
    "name": "ipython",
    "version": 3
   },
   "file_extension": ".py",
   "mimetype": "text/x-python",
   "name": "python",
   "nbconvert_exporter": "python",
   "pygments_lexer": "ipython3",
   "version": "3.9.20"
  }
 },
 "nbformat": 4,
 "nbformat_minor": 2
}
