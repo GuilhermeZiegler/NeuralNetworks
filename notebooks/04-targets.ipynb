{
 "cells": [
  {
   "cell_type": "code",
   "execution_count": null,
   "metadata": {},
   "outputs": [
    {
     "name": "stdout",
     "output_type": "stream",
     "text": [
      "numpy is already installed.\n",
      "pandas is already installed.\n",
      "scikit-learn is already installed.\n",
      "joblib is already installed.\n",
      "pyarrow is already installed.\n",
      "fastparquet is already installed.\n",
      "plotly is already installed.\n",
      "matplotlib is already installed.\n",
      "All packages are verified\n"
     ]
    }
   ],
   "source": [
    "import sys\n",
    "import subprocess\n",
    "import pkg_resources\n",
    "import os\n",
    "\n",
    "sys.path.append(os.path.abspath('../scripts'))\n",
    "\n",
    "from myFunctions import install_packages, save_table \n",
    "install_packages()\n",
    "\n",
    "import pandas as pd\n",
    "import numpy as np\n",
    "import warnings\n",
    "warnings.simplefilter(action='ignore', category=FutureWarning)\n",
    "pd.set_option('display.max_columns', None)\n"
   ]
  },
  {
   "cell_type": "code",
   "execution_count": 4,
   "metadata": {},
   "outputs": [],
   "source": [
    "input_dir = '..//data//features//'\n",
    "output_dir = '..//data//target//'"
   ]
  },
  {
   "cell_type": "code",
   "execution_count": 5,
   "metadata": {},
   "outputs": [
    {
     "name": "stdout",
     "output_type": "stream",
     "text": [
      "df carregado (22356, 85)\n"
     ]
    }
   ],
   "source": [
    "df = pd.read_parquet(f'{input_dir}features.parquet')\n",
    "print('df carregado', df.shape)\n"
   ]
  },
  {
   "cell_type": "code",
   "execution_count": 11,
   "metadata": {},
   "outputs": [
    {
     "data": {
      "text/plain": [
       "Index(['time', 'open_BGI$', 'high_BGI$', 'low_BGI$', 'close_BGI$',\n",
       "       'tick_volume_BGI$', 'spread_BGI$', 'real_volume_BGI$', 'open_CCM$',\n",
       "       'high_CCM$', 'low_CCM$', 'close_CCM$', 'tick_volume_CCM$',\n",
       "       'spread_CCM$', 'real_volume_CCM$', 'open_GOLD11', 'high_GOLD11',\n",
       "       'low_GOLD11', 'close_GOLD11', 'tick_volume_GOLD11', 'spread_GOLD11',\n",
       "       'real_volume_GOLD11', 'open_IBOV', 'high_IBOV', 'low_IBOV',\n",
       "       'close_IBOV', 'tick_volume_IBOV', 'spread_IBOV', 'real_volume_IBOV',\n",
       "       'open_ICF$', 'high_ICF$', 'low_ICF$', 'close_ICF$', 'tick_volume_ICF$',\n",
       "       'spread_ICF$', 'real_volume_ICF$', 'open_IVVB11', 'high_IVVB11',\n",
       "       'low_IVVB11', 'close_IVVB11', 'tick_volume_IVVB11', 'spread_IVVB11',\n",
       "       'real_volume_IVVB11', 'OBV_ICF$', 'OBV_IVVB11', 'OBV_CCM$',\n",
       "       'OBV_GOLD11', 'OBV_BGI$', 'OBV_IBOV', 'RSI_ICF$', 'RSI_IVVB11',\n",
       "       'RSI_CCM$', 'RSI_GOLD11', 'RSI_BGI$', 'RSI_IBOV', 'ATR_ICF$',\n",
       "       'ATR_IVVB11', 'ATR_CCM$', 'ATR_GOLD11', 'ATR_BGI$', 'ATR_IBOV',\n",
       "       'VWAP_ICF$', 'VWAP_IVVB11', 'VWAP_CCM$', 'VWAP_GOLD11', 'VWAP_BGI$',\n",
       "       'VWAP_IBOV', 'EMA9_ICF$', 'EMA21_ICF$', 'EMA55_ICF$', 'EMA9_IVVB11',\n",
       "       'EMA21_IVVB11', 'EMA55_IVVB11', 'EMA9_CCM$', 'EMA21_CCM$', 'EMA55_CCM$',\n",
       "       'EMA9_GOLD11', 'EMA21_GOLD11', 'EMA55_GOLD11', 'EMA9_BGI$',\n",
       "       'EMA21_BGI$', 'EMA55_BGI$', 'EMA9_IBOV', 'EMA21_IBOV', 'EMA55_IBOV',\n",
       "       'day'],\n",
       "      dtype='object')"
      ]
     },
     "execution_count": 11,
     "metadata": {},
     "output_type": "execute_result"
    }
   ],
   "source": [
    "df.columns"
   ]
  },
  {
   "cell_type": "code",
   "execution_count": 36,
   "metadata": {},
   "outputs": [],
   "source": [
    "def generate_targets(df, asset, timeframe=None):\n",
    "    \"\"\"\n",
    "    Generate targets based on the closing and opening prices of the specified asset.\n",
    "    \n",
    "    Parameters:\n",
    "    df (pd.DataFrame): DataFrame containing asset data.\n",
    "    asset (str): Name of the asset for which to calculate the targets.\n",
    "    timeframe (str): Timeframe for grouping data. If 'day', group by day; \n",
    "                     otherwise, calculate targets for all timestamps.\n",
    "    \n",
    "    Returns:\n",
    "    pd.DataFrame: DataFrame with opening and closing prices, and targets.\n",
    "\n",
    "    Example:\n",
    "    With `timeframe='day'`:\n",
    "    | time                | open_BGI$ | close_BGI$ |\n",
    "    |---------------------|-----------|------------|\n",
    "    | 2024-12-01 09:00:00 | 323.57    | 322.07     |\n",
    "    | 2024-12-01 17:45:00 | 313.94    | 288.87     |\n",
    "    | 2024-12-02 09:00:00 | 318.39    | 287.36     |\n",
    "\n",
    "    Returns:\n",
    "    | day        | open_BGI$ | close_BGI$ | close_price_target | open_price_target | behavior_target |\n",
    "    |------------|-----------|------------|--------------------|-------------------|-----------------|\n",
    "    | 2024-12-01 | 323.57    | 288.87     | 287.36             | 318.39            | 0               |\n",
    "    | 2024-12-02 | 318.39    | 287.36     | ...                | ...               | ...             |\n",
    "    \n",
    "    With `timeframe=None`:\n",
    "    | time                | open_BGI$ | close_BGI$ |\n",
    "    |---------------------|-----------|------------|\n",
    "    | 2024-12-01 09:00:00 | 323.57    | 322.07     |\n",
    "    | 2024-12-01 17:45:00 | 313.94    | 288.87     |\n",
    "    | 2024-12-02 09:00:00 | 318.39    | 287.36     |\n",
    "\n",
    "    Returns:\n",
    "    | time                | open_BGI$ | close_BGI$ | close_price_target | open_price_target | behavior_target |\n",
    "    |---------------------|-----------|------------|--------------------|-------------------|-----------------|\n",
    "    | 2024-12-01 09:00:00 | 323.57    | 322.07     | 288.87             | 313.94            | 0               |\n",
    "    | 2024-12-01 17:45:00 | 313.94    | 288.87     | 287.36             | 318.39            | 0               |\n",
    "    \"\"\"\n",
    "    close_col = f'close_{asset}'\n",
    "    open_col = f'open_{asset}'\n",
    "    \n",
    "    if close_col not in df.columns or open_col not in df.columns:\n",
    "        raise KeyError(f'Columns for {asset} ({open_col}, {close_col}) not found in the DataFrame')\n",
    "\n",
    "    if timeframe == 'day':\n",
    "        df['day'] = pd.to_datetime(df['time']).dt.date\n",
    "        aux_open = df.groupby('day').first()[[open_col]]\n",
    "        aux_close = df.groupby('day').last()[[close_col]]\n",
    "        target_df = pd.concat([aux_open, aux_close], axis=1)\n",
    "        target_df['close_price_target'] = target_df[close_col].shift(-1)\n",
    "        target_df['open_price_target'] = target_df[open_col].shift(-1)\n",
    "        target_df['behavior_target'] = (target_df['close_price_target'] > target_df[close_col]).astype(int)\n",
    "    else:\n",
    "        target_df = df[['time', open_col, close_col]].copy()\n",
    "        target_df['close_price_target'] = target_df[close_col].shift(-1)\n",
    "        target_df['open_price_target'] = target_df[open_col].shift(-1)\n",
    "        target_df['behavior_target'] = (target_df['close_price_target'] > target_df[close_col]).astype(int)\n",
    "\n",
    "    return target_df"
   ]
  },
  {
   "cell_type": "code",
   "execution_count": 37,
   "metadata": {},
   "outputs": [],
   "source": [
    "target_day_df = generate_targets(df, asset='BGI$', timeframe='day')"
   ]
  },
  {
   "cell_type": "code",
   "execution_count": 34,
   "metadata": {},
   "outputs": [
    {
     "data": {
      "text/html": [
       "<div>\n",
       "<style scoped>\n",
       "    .dataframe tbody tr th:only-of-type {\n",
       "        vertical-align: middle;\n",
       "    }\n",
       "\n",
       "    .dataframe tbody tr th {\n",
       "        vertical-align: top;\n",
       "    }\n",
       "\n",
       "    .dataframe thead th {\n",
       "        text-align: right;\n",
       "    }\n",
       "</style>\n",
       "<table border=\"1\" class=\"dataframe\">\n",
       "  <thead>\n",
       "    <tr style=\"text-align: right;\">\n",
       "      <th></th>\n",
       "      <th>open_BGI$</th>\n",
       "      <th>close_BGI$</th>\n",
       "      <th>close_price_target</th>\n",
       "      <th>open_price_target</th>\n",
       "      <th>behavior_target</th>\n",
       "    </tr>\n",
       "    <tr>\n",
       "      <th>day</th>\n",
       "      <th></th>\n",
       "      <th></th>\n",
       "      <th></th>\n",
       "      <th></th>\n",
       "      <th></th>\n",
       "    </tr>\n",
       "  </thead>\n",
       "  <tbody>\n",
       "    <tr>\n",
       "      <th>2022-06-02</th>\n",
       "      <td>313.94</td>\n",
       "      <td>318.78</td>\n",
       "      <td>325.41</td>\n",
       "      <td>318.39</td>\n",
       "      <td>1</td>\n",
       "    </tr>\n",
       "    <tr>\n",
       "      <th>2022-06-03</th>\n",
       "      <td>318.39</td>\n",
       "      <td>325.41</td>\n",
       "      <td>325.07</td>\n",
       "      <td>325.07</td>\n",
       "      <td>0</td>\n",
       "    </tr>\n",
       "    <tr>\n",
       "      <th>2022-06-06</th>\n",
       "      <td>325.07</td>\n",
       "      <td>325.07</td>\n",
       "      <td>324.10</td>\n",
       "      <td>324.68</td>\n",
       "      <td>0</td>\n",
       "    </tr>\n",
       "    <tr>\n",
       "      <th>2022-06-07</th>\n",
       "      <td>324.68</td>\n",
       "      <td>324.10</td>\n",
       "      <td>324.00</td>\n",
       "      <td>325.07</td>\n",
       "      <td>0</td>\n",
       "    </tr>\n",
       "    <tr>\n",
       "      <th>2022-06-08</th>\n",
       "      <td>325.07</td>\n",
       "      <td>324.00</td>\n",
       "      <td>325.99</td>\n",
       "      <td>324.54</td>\n",
       "      <td>1</td>\n",
       "    </tr>\n",
       "  </tbody>\n",
       "</table>\n",
       "</div>"
      ],
      "text/plain": [
       "            open_BGI$  close_BGI$  close_price_target  open_price_target  \\\n",
       "day                                                                        \n",
       "2022-06-02     313.94      318.78              325.41             318.39   \n",
       "2022-06-03     318.39      325.41              325.07             325.07   \n",
       "2022-06-06     325.07      325.07              324.10             324.68   \n",
       "2022-06-07     324.68      324.10              324.00             325.07   \n",
       "2022-06-08     325.07      324.00              325.99             324.54   \n",
       "\n",
       "            behavior_target  \n",
       "day                          \n",
       "2022-06-02                1  \n",
       "2022-06-03                0  \n",
       "2022-06-06                0  \n",
       "2022-06-07                0  \n",
       "2022-06-08                1  "
      ]
     },
     "execution_count": 34,
     "metadata": {},
     "output_type": "execute_result"
    }
   ],
   "source": [
    "target_day_df.head()"
   ]
  },
  {
   "cell_type": "code",
   "execution_count": 38,
   "metadata": {},
   "outputs": [],
   "source": [
    "target_df = generate_targets(df, asset='BGI$')"
   ]
  },
  {
   "cell_type": "code",
   "execution_count": 39,
   "metadata": {},
   "outputs": [
    {
     "data": {
      "text/html": [
       "<div>\n",
       "<style scoped>\n",
       "    .dataframe tbody tr th:only-of-type {\n",
       "        vertical-align: middle;\n",
       "    }\n",
       "\n",
       "    .dataframe tbody tr th {\n",
       "        vertical-align: top;\n",
       "    }\n",
       "\n",
       "    .dataframe thead th {\n",
       "        text-align: right;\n",
       "    }\n",
       "</style>\n",
       "<table border=\"1\" class=\"dataframe\">\n",
       "  <thead>\n",
       "    <tr style=\"text-align: right;\">\n",
       "      <th></th>\n",
       "      <th>time</th>\n",
       "      <th>open_BGI$</th>\n",
       "      <th>close_BGI$</th>\n",
       "      <th>close_price_target</th>\n",
       "      <th>open_price_target</th>\n",
       "      <th>behavior_target</th>\n",
       "    </tr>\n",
       "  </thead>\n",
       "  <tbody>\n",
       "    <tr>\n",
       "      <th>96</th>\n",
       "      <td>2022-06-02 09:00:00</td>\n",
       "      <td>313.94</td>\n",
       "      <td>313.75</td>\n",
       "      <td>312.73</td>\n",
       "      <td>313.17</td>\n",
       "      <td>0</td>\n",
       "    </tr>\n",
       "    <tr>\n",
       "      <th>97</th>\n",
       "      <td>2022-06-02 09:15:00</td>\n",
       "      <td>313.17</td>\n",
       "      <td>312.73</td>\n",
       "      <td>312.73</td>\n",
       "      <td>313.17</td>\n",
       "      <td>0</td>\n",
       "    </tr>\n",
       "    <tr>\n",
       "      <th>98</th>\n",
       "      <td>2022-06-02 09:30:00</td>\n",
       "      <td>313.17</td>\n",
       "      <td>312.73</td>\n",
       "      <td>312.78</td>\n",
       "      <td>313.41</td>\n",
       "      <td>1</td>\n",
       "    </tr>\n",
       "    <tr>\n",
       "      <th>99</th>\n",
       "      <td>2022-06-02 09:45:00</td>\n",
       "      <td>313.41</td>\n",
       "      <td>312.78</td>\n",
       "      <td>313.56</td>\n",
       "      <td>312.83</td>\n",
       "      <td>1</td>\n",
       "    </tr>\n",
       "    <tr>\n",
       "      <th>100</th>\n",
       "      <td>2022-06-02 10:00:00</td>\n",
       "      <td>312.83</td>\n",
       "      <td>313.56</td>\n",
       "      <td>313.94</td>\n",
       "      <td>313.89</td>\n",
       "      <td>1</td>\n",
       "    </tr>\n",
       "  </tbody>\n",
       "</table>\n",
       "</div>"
      ],
      "text/plain": [
       "                   time  open_BGI$  close_BGI$  close_price_target  \\\n",
       "96  2022-06-02 09:00:00     313.94      313.75              312.73   \n",
       "97  2022-06-02 09:15:00     313.17      312.73              312.73   \n",
       "98  2022-06-02 09:30:00     313.17      312.73              312.78   \n",
       "99  2022-06-02 09:45:00     313.41      312.78              313.56   \n",
       "100 2022-06-02 10:00:00     312.83      313.56              313.94   \n",
       "\n",
       "     open_price_target  behavior_target  \n",
       "96              313.17                0  \n",
       "97              313.17                0  \n",
       "98              313.41                1  \n",
       "99              312.83                1  \n",
       "100             313.89                1  "
      ]
     },
     "execution_count": 39,
     "metadata": {},
     "output_type": "execute_result"
    }
   ],
   "source": [
    "target_df.head()"
   ]
  },
  {
   "cell_type": "code",
   "execution_count": 40,
   "metadata": {},
   "outputs": [],
   "source": [
    "os.makedirs(output_dir, exist_ok=True)\n",
    "target_df.to_parquet(f'{output_dir}timestamp_target.parquet')\n",
    "target_day_df.to_parquet(f'{output_dir}daily_target.parquet')"
   ]
  },
  {
   "cell_type": "code",
   "execution_count": 47,
   "metadata": {},
   "outputs": [
    {
     "name": "stdout",
     "output_type": "stream",
     "text": [
      "Tabela saved as CSV: ../results/tables/csv\\Tabela_2_Exemplo do Target diário para o fechamento, abertura e comportamento do mercado.csv\n",
      "Tabela saved as CSV: ../results/tables/csv\\Tabela_3_Exemplo do Target timestamp para o fechamento, abertura e comportamento do mercado.csv\n"
     ]
    }
   ],
   "source": [
    "save_table(target_day_df.head(6), title = 'Exemplo do Target diário para o fechamento, abertura e comportamento do mercado')\n",
    "save_table(target_df.head(6), title = 'Exemplo do Target timestamp para o fechamento, abertura e comportamento do mercado')"
   ]
  },
  {
   "cell_type": "code",
   "execution_count": null,
   "metadata": {},
   "outputs": [],
   "source": []
  }
 ],
 "metadata": {
  "kernelspec": {
   "display_name": "pytorch_env",
   "language": "python",
   "name": "python3"
  },
  "language_info": {
   "codemirror_mode": {
    "name": "ipython",
    "version": 3
   },
   "file_extension": ".py",
   "mimetype": "text/x-python",
   "name": "python",
   "nbconvert_exporter": "python",
   "pygments_lexer": "ipython3",
   "version": "3.9.20"
  }
 },
 "nbformat": 4,
 "nbformat_minor": 2
}
