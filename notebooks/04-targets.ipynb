{
 "cells": [
  {
   "cell_type": "code",
   "execution_count": 26,
   "metadata": {},
   "outputs": [
    {
     "name": "stdout",
     "output_type": "stream",
     "text": [
      "Installing required packages: ['numpy', 'pandas', 'scikit-learn', 'joblib', 'pyarrow', 'fastparquet', 'plotly', 'matplotlib', 'seaborn', 'MetaTrader5', 'tabulate', 'optuna', 'torch', 'tqdm', 'shap', 'kaleido', 'statsmodels', 're']\n",
      "numpy is already installed.\n",
      "pandas is already installed.\n",
      "scikit-learn is already installed.\n",
      "joblib is already installed.\n",
      "pyarrow is already installed.\n",
      "fastparquet is already installed.\n",
      "plotly is already installed.\n",
      "matplotlib is already installed.\n",
      "Installing seaborn...\n",
      "MetaTrader5 is already installed.\n",
      "tabulate is already installed.\n",
      "optuna is already installed.\n",
      "torch is already installed.\n",
      "tqdm is already installed.\n",
      "shap is already installed.\n",
      "kaleido is already installed.\n",
      "Installing statsmodels...\n",
      "Installing re...\n",
      "Error installing re: Command '['c:\\\\Users\\\\guitz\\\\anaconda3\\\\envs\\\\pytorch_env\\\\python.exe', '-m', 'pip', 'install', 're']' returned non-zero exit status 1.\n",
      "All packages are verified.\n"
     ]
    }
   ],
   "source": [
    "import sys\n",
    "import subprocess\n",
    "import pkg_resources\n",
    "import os\n",
    "sys.path.append(os.path.abspath('../scripts'))\n",
    "from myFunctions import install_packages, save_table \n",
    "install_packages()\n",
    "import pandas as pd\n",
    "import numpy as np\n",
    "from tabulate import tabulate\n",
    "import warnings\n",
    "warnings.simplefilter(action='ignore', category=FutureWarning)\n",
    "pd.set_option('display.max_columns', None)\n"
   ]
  },
  {
   "cell_type": "code",
   "execution_count": 27,
   "metadata": {},
   "outputs": [],
   "source": [
    "def generate_targets(df, asset, timeframe=None):\n",
    "    \"\"\"\n",
    "    Generate targets based on the closing and opening prices of the specified asset.\n",
    "    \n",
    "    Parameters:\n",
    "    df (pd.DataFrame): DataFrame containing asset data.\n",
    "    asset (str): Name of the asset for which to calculate the targets.\n",
    "    timeframe (str): Timeframe for grouping data. If 'day', group by day; \n",
    "                     otherwise, calculate targets for all timestamps.\n",
    "    \n",
    "    Returns:\n",
    "    pd.DataFrame: DataFrame with opening and closing prices, and targets.\n",
    "\n",
    "    Example:\n",
    "    With `timeframe='day'`:\n",
    "    | time                | open_BGI$ | close_BGI$ |\n",
    "    |---------------------|-----------|------------|\n",
    "    | 2024-12-01 09:00:00 | 323.57    | 322.07     |\n",
    "    | 2024-12-01 17:45:00 | 313.94    | 288.87     |\n",
    "    | 2024-12-02 09:00:00 | 318.39    | 287.36     |\n",
    "\n",
    "    Returns:\n",
    "    | day        | open_BGI$ | close_BGI$ | close_price_target | open_price_target | behavior_target |\n",
    "    |------------|-----------|------------|--------------------|-------------------|-----------------|\n",
    "    | 2024-12-01 | 323.57    | 288.87     | 287.36             | 318.39            | 0               |\n",
    "    | 2024-12-02 | 318.39    | 287.36     | ...                | ...               | ...             |\n",
    "    \n",
    "    With `timeframe=None`:\n",
    "    | time                | open_BGI$ | close_BGI$ |\n",
    "    |---------------------|-----------|------------|\n",
    "    | 2024-12-01 09:00:00 | 323.57    | 322.07     |\n",
    "    | 2024-12-01 17:45:00 | 313.94    | 288.87     |\n",
    "    | 2024-12-02 09:00:00 | 318.39    | 287.36     |\n",
    "\n",
    "    Returns:\n",
    "    | time                | open_BGI$ | close_BGI$ | close_price_target | open_price_target | behavior_target |\n",
    "    |---------------------|-----------|------------|--------------------|-------------------|-----------------|\n",
    "    | 2024-12-01 09:00:00 | 323.57    | 322.07     | 288.87             | 313.94            | 0               |\n",
    "    | 2024-12-01 17:45:00 | 313.94    | 288.87     | 287.36             | 318.39            | 0               |\n",
    "    \"\"\"\n",
    "    close_col = f'close_{asset}'\n",
    "    open_col = f'open_{asset}'\n",
    "    \n",
    "    if close_col not in df.columns or open_col not in df.columns:\n",
    "        raise KeyError(f'Columns for {asset} ({open_col}, {close_col}) not found in the DataFrame')\n",
    "\n",
    "    if timeframe == 'day':\n",
    "        df['day'] = pd.to_datetime(df['time']).dt.date\n",
    "        aux_open = df.groupby('day').first()[[open_col]]\n",
    "        aux_close = df.groupby('day').last()[[close_col]]\n",
    "        target_df = pd.concat([aux_open, aux_close], axis=1)\n",
    "        target_df['close_price_target'] = target_df[close_col].shift(-1)\n",
    "        target_df['open_price_target'] = target_df[open_col].shift(-1)\n",
    "        target_df['behavior_target'] = (target_df['close_price_target'] > target_df[close_col]).astype(int)\n",
    "    else:\n",
    "        target_df = df[['time', open_col, close_col]].copy()\n",
    "        target_df['close_price_target'] = target_df[close_col].shift(-1)\n",
    "        target_df['open_price_target'] = target_df[open_col].shift(-1)\n",
    "        target_df['behavior_target'] = (target_df['close_price_target'] > target_df[close_col]).astype(int)\n",
    "\n",
    "    return target_df\n",
    "\n"
   ]
  },
  {
   "cell_type": "code",
   "execution_count": 31,
   "metadata": {},
   "outputs": [
    {
     "name": "stdout",
     "output_type": "stream",
     "text": [
      "df shape:  (22356, 169)\n"
     ]
    }
   ],
   "source": [
    "### folders \n",
    "input_dir = os.path.join('..', 'data', 'features')\n",
    "output_dir = os.path.join('..', 'data', 'target')\n",
    "### reading features\n",
    "df = pd.read_parquet(f'{input_dir}/features.parquet')\n",
    "print('df shape: ', df.shape)"
   ]
  },
  {
   "cell_type": "code",
   "execution_count": 32,
   "metadata": {},
   "outputs": [],
   "source": [
    "### Generating Targets for timestamp model and daily models\n",
    "D1_df_target = generate_targets(df, asset='BGI$', timeframe='day')\n",
    "M15_df_target = generate_targets(df, asset='BGI$')"
   ]
  },
  {
   "cell_type": "code",
   "execution_count": 33,
   "metadata": {},
   "outputs": [
    {
     "name": "stdout",
     "output_type": "stream",
     "text": [
      "Table saved as CSV: ..\\results\\tables\\csv\\Tabela_2_Exemplo do Target D1 para o fechamento, abertura e comportamento do mercado.csv\n",
      "Table saved as CSV: ..\\results\\tables\\csv\\Tabela_3_Exemplo do Target M15 para o fechamento, abertura e comportamento do mercado.csv\n"
     ]
    }
   ],
   "source": [
    "### Saving data and tables\n",
    "os.makedirs(output_dir, exist_ok=True)\n",
    "M15_df_target.to_parquet(f'{output_dir}/M15_df_target.parquet')\n",
    "D1_df_target.to_parquet(f'{output_dir}/D1_df_target.parquet')\n",
    "\n",
    "save_table(D1_df_target.head(6), title = 'Exemplo do Target D1 para o fechamento, abertura e comportamento do mercado')\n",
    "save_table(M15_df_target.head(6), title = 'Exemplo do Target M15 para o fechamento, abertura e comportamento do mercado')"
   ]
  },
  {
   "cell_type": "code",
   "execution_count": null,
   "metadata": {},
   "outputs": [],
   "source": []
  }
 ],
 "metadata": {
  "kernelspec": {
   "display_name": "pytorch_env",
   "language": "python",
   "name": "python3"
  },
  "language_info": {
   "codemirror_mode": {
    "name": "ipython",
    "version": 3
   },
   "file_extension": ".py",
   "mimetype": "text/x-python",
   "name": "python",
   "nbconvert_exporter": "python",
   "pygments_lexer": "ipython3",
   "version": "3.9.20"
  }
 },
 "nbformat": 4,
 "nbformat_minor": 2
}
