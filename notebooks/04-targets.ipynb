{
 "cells": [
  {
   "cell_type": "code",
   "execution_count": 2,
   "metadata": {},
   "outputs": [
    {
     "name": "stdout",
     "output_type": "stream",
     "text": [
      "Installing required packages: ['numpy', 'pandas', 'scikit-learn', 'joblib', 'pyarrow', 'fastparquet', 'plotly', 'matplotlib', 'MetaTrader5', 'tabulate', 'optuna', 'torch']\n",
      "numpy is already installed.\n",
      "pandas is already installed.\n",
      "scikit-learn is already installed.\n",
      "joblib is already installed.\n",
      "pyarrow is already installed.\n",
      "fastparquet is already installed.\n",
      "plotly is already installed.\n",
      "matplotlib is already installed.\n",
      "MetaTrader5 is already installed.\n",
      "tabulate is already installed.\n",
      "optuna is already installed.\n",
      "torch is already installed.\n",
      "All packages are verified.\n"
     ]
    }
   ],
   "source": [
    "import sys\n",
    "import subprocess\n",
    "import pkg_resources\n",
    "import os\n",
    "\n",
    "sys.path.append(os.path.abspath('../scripts'))\n",
    "\n",
    "from myFunctions import install_packages, save_table \n",
    "install_packages()\n",
    "\n",
    "import pandas as pd\n",
    "import numpy as np\n",
    "from tabulate import tabulate\n",
    "import warnings\n",
    "warnings.simplefilter(action='ignore', category=FutureWarning)\n",
    "pd.set_option('display.max_columns', None)\n"
   ]
  },
  {
   "cell_type": "code",
   "execution_count": 3,
   "metadata": {},
   "outputs": [],
   "source": [
    "\n",
    "### folders \n",
    "input_dir = os.path.join('..', 'data', 'features')\n",
    "output_dir = os.path.join('..', 'data', 'target')\n"
   ]
  },
  {
   "cell_type": "code",
   "execution_count": 5,
   "metadata": {},
   "outputs": [
    {
     "name": "stdout",
     "output_type": "stream",
     "text": [
      "df shape (22356, 169)\n"
     ]
    }
   ],
   "source": [
    "df = pd.read_parquet(f'{input_dir}/features.parquet')\n",
    "print('df shape', df.shape)\n"
   ]
  },
  {
   "cell_type": "code",
   "execution_count": 6,
   "metadata": {},
   "outputs": [
    {
     "data": {
      "text/plain": [
       "Index(['time', 'open_AGFS', 'high_AGFS', 'low_AGFS', 'close_AGFS',\n",
       "       'tick_volume_AGFS', 'spread_AGFS', 'real_volume_AGFS', 'open_BGI$',\n",
       "       'high_BGI$',\n",
       "       ...\n",
       "       'EMA55_DI1$', 'EMA9_CCM$', 'EMA21_CCM$', 'EMA55_CCM$', 'EMA9_AGFS',\n",
       "       'EMA21_AGFS', 'EMA55_AGFS', 'EMA9_ICF$', 'EMA21_ICF$', 'EMA55_ICF$'],\n",
       "      dtype='object', length=169)"
      ]
     },
     "execution_count": 6,
     "metadata": {},
     "output_type": "execute_result"
    }
   ],
   "source": [
    "df.columns"
   ]
  },
  {
   "cell_type": "code",
   "execution_count": 7,
   "metadata": {},
   "outputs": [],
   "source": [
    "def generate_targets(df, asset, timeframe=None):\n",
    "    \"\"\"\n",
    "    Generate targets based on the closing and opening prices of the specified asset.\n",
    "    \n",
    "    Parameters:\n",
    "    df (pd.DataFrame): DataFrame containing asset data.\n",
    "    asset (str): Name of the asset for which to calculate the targets.\n",
    "    timeframe (str): Timeframe for grouping data. If 'day', group by day; \n",
    "                     otherwise, calculate targets for all timestamps.\n",
    "    \n",
    "    Returns:\n",
    "    pd.DataFrame: DataFrame with opening and closing prices, and targets.\n",
    "\n",
    "    Example:\n",
    "    With `timeframe='day'`:\n",
    "    | time                | open_BGI$ | close_BGI$ |\n",
    "    |---------------------|-----------|------------|\n",
    "    | 2024-12-01 09:00:00 | 323.57    | 322.07     |\n",
    "    | 2024-12-01 17:45:00 | 313.94    | 288.87     |\n",
    "    | 2024-12-02 09:00:00 | 318.39    | 287.36     |\n",
    "\n",
    "    Returns:\n",
    "    | day        | open_BGI$ | close_BGI$ | close_price_target | open_price_target | behavior_target |\n",
    "    |------------|-----------|------------|--------------------|-------------------|-----------------|\n",
    "    | 2024-12-01 | 323.57    | 288.87     | 287.36             | 318.39            | 0               |\n",
    "    | 2024-12-02 | 318.39    | 287.36     | ...                | ...               | ...             |\n",
    "    \n",
    "    With `timeframe=None`:\n",
    "    | time                | open_BGI$ | close_BGI$ |\n",
    "    |---------------------|-----------|------------|\n",
    "    | 2024-12-01 09:00:00 | 323.57    | 322.07     |\n",
    "    | 2024-12-01 17:45:00 | 313.94    | 288.87     |\n",
    "    | 2024-12-02 09:00:00 | 318.39    | 287.36     |\n",
    "\n",
    "    Returns:\n",
    "    | time                | open_BGI$ | close_BGI$ | close_price_target | open_price_target | behavior_target |\n",
    "    |---------------------|-----------|------------|--------------------|-------------------|-----------------|\n",
    "    | 2024-12-01 09:00:00 | 323.57    | 322.07     | 288.87             | 313.94            | 0               |\n",
    "    | 2024-12-01 17:45:00 | 313.94    | 288.87     | 287.36             | 318.39            | 0               |\n",
    "    \"\"\"\n",
    "    close_col = f'close_{asset}'\n",
    "    open_col = f'open_{asset}'\n",
    "    \n",
    "    if close_col not in df.columns or open_col not in df.columns:\n",
    "        raise KeyError(f'Columns for {asset} ({open_col}, {close_col}) not found in the DataFrame')\n",
    "\n",
    "    if timeframe == 'day':\n",
    "        df['day'] = pd.to_datetime(df['time']).dt.date\n",
    "        aux_open = df.groupby('day').first()[[open_col]]\n",
    "        aux_close = df.groupby('day').last()[[close_col]]\n",
    "        target_df = pd.concat([aux_open, aux_close], axis=1)\n",
    "        target_df['close_price_target'] = target_df[close_col].shift(-1)\n",
    "        target_df['open_price_target'] = target_df[open_col].shift(-1)\n",
    "        target_df['behavior_target'] = (target_df['close_price_target'] > target_df[close_col]).astype(int)\n",
    "    else:\n",
    "        target_df = df[['time', open_col, close_col]].copy()\n",
    "        target_df['close_price_target'] = target_df[close_col].shift(-1)\n",
    "        target_df['open_price_target'] = target_df[open_col].shift(-1)\n",
    "        target_df['behavior_target'] = (target_df['close_price_target'] > target_df[close_col]).astype(int)\n",
    "\n",
    "    return target_df"
   ]
  },
  {
   "cell_type": "code",
   "execution_count": 8,
   "metadata": {},
   "outputs": [],
   "source": [
    "target_day_df = generate_targets(df, asset='BGI$', timeframe='day')"
   ]
  },
  {
   "cell_type": "code",
   "execution_count": 9,
   "metadata": {},
   "outputs": [
    {
     "data": {
      "text/html": [
       "<div>\n",
       "<style scoped>\n",
       "    .dataframe tbody tr th:only-of-type {\n",
       "        vertical-align: middle;\n",
       "    }\n",
       "\n",
       "    .dataframe tbody tr th {\n",
       "        vertical-align: top;\n",
       "    }\n",
       "\n",
       "    .dataframe thead th {\n",
       "        text-align: right;\n",
       "    }\n",
       "</style>\n",
       "<table border=\"1\" class=\"dataframe\">\n",
       "  <thead>\n",
       "    <tr style=\"text-align: right;\">\n",
       "      <th></th>\n",
       "      <th>open_BGI$</th>\n",
       "      <th>close_BGI$</th>\n",
       "      <th>close_price_target</th>\n",
       "      <th>open_price_target</th>\n",
       "      <th>behavior_target</th>\n",
       "    </tr>\n",
       "    <tr>\n",
       "      <th>day</th>\n",
       "      <th></th>\n",
       "      <th></th>\n",
       "      <th></th>\n",
       "      <th></th>\n",
       "      <th></th>\n",
       "    </tr>\n",
       "  </thead>\n",
       "  <tbody>\n",
       "    <tr>\n",
       "      <th>2022-06-02</th>\n",
       "      <td>320.52</td>\n",
       "      <td>325.46</td>\n",
       "      <td>332.23</td>\n",
       "      <td>325.07</td>\n",
       "      <td>1</td>\n",
       "    </tr>\n",
       "    <tr>\n",
       "      <th>2022-06-03</th>\n",
       "      <td>325.07</td>\n",
       "      <td>332.23</td>\n",
       "      <td>331.88</td>\n",
       "      <td>331.88</td>\n",
       "      <td>0</td>\n",
       "    </tr>\n",
       "    <tr>\n",
       "      <th>2022-06-06</th>\n",
       "      <td>331.88</td>\n",
       "      <td>331.88</td>\n",
       "      <td>330.89</td>\n",
       "      <td>331.49</td>\n",
       "      <td>0</td>\n",
       "    </tr>\n",
       "    <tr>\n",
       "      <th>2022-06-07</th>\n",
       "      <td>331.49</td>\n",
       "      <td>330.89</td>\n",
       "      <td>330.80</td>\n",
       "      <td>331.88</td>\n",
       "      <td>0</td>\n",
       "    </tr>\n",
       "    <tr>\n",
       "      <th>2022-06-08</th>\n",
       "      <td>331.88</td>\n",
       "      <td>330.80</td>\n",
       "      <td>332.82</td>\n",
       "      <td>331.34</td>\n",
       "      <td>1</td>\n",
       "    </tr>\n",
       "  </tbody>\n",
       "</table>\n",
       "</div>"
      ],
      "text/plain": [
       "            open_BGI$  close_BGI$  close_price_target  open_price_target  \\\n",
       "day                                                                        \n",
       "2022-06-02     320.52      325.46              332.23             325.07   \n",
       "2022-06-03     325.07      332.23              331.88             331.88   \n",
       "2022-06-06     331.88      331.88              330.89             331.49   \n",
       "2022-06-07     331.49      330.89              330.80             331.88   \n",
       "2022-06-08     331.88      330.80              332.82             331.34   \n",
       "\n",
       "            behavior_target  \n",
       "day                          \n",
       "2022-06-02                1  \n",
       "2022-06-03                0  \n",
       "2022-06-06                0  \n",
       "2022-06-07                0  \n",
       "2022-06-08                1  "
      ]
     },
     "execution_count": 9,
     "metadata": {},
     "output_type": "execute_result"
    }
   ],
   "source": [
    "target_day_df.head()"
   ]
  },
  {
   "cell_type": "code",
   "execution_count": 18,
   "metadata": {},
   "outputs": [],
   "source": [
    "target_df = generate_targets(df, asset='BGI$')"
   ]
  },
  {
   "cell_type": "code",
   "execution_count": 19,
   "metadata": {},
   "outputs": [
    {
     "data": {
      "text/html": [
       "<div>\n",
       "<style scoped>\n",
       "    .dataframe tbody tr th:only-of-type {\n",
       "        vertical-align: middle;\n",
       "    }\n",
       "\n",
       "    .dataframe tbody tr th {\n",
       "        vertical-align: top;\n",
       "    }\n",
       "\n",
       "    .dataframe thead th {\n",
       "        text-align: right;\n",
       "    }\n",
       "</style>\n",
       "<table border=\"1\" class=\"dataframe\">\n",
       "  <thead>\n",
       "    <tr style=\"text-align: right;\">\n",
       "      <th></th>\n",
       "      <th>time</th>\n",
       "      <th>open_BGI$</th>\n",
       "      <th>close_BGI$</th>\n",
       "      <th>close_price_target</th>\n",
       "      <th>open_price_target</th>\n",
       "      <th>behavior_target</th>\n",
       "    </tr>\n",
       "  </thead>\n",
       "  <tbody>\n",
       "    <tr>\n",
       "      <th>96</th>\n",
       "      <td>2022-06-02 09:00:00</td>\n",
       "      <td>313.94</td>\n",
       "      <td>313.75</td>\n",
       "      <td>312.73</td>\n",
       "      <td>313.17</td>\n",
       "      <td>0</td>\n",
       "    </tr>\n",
       "    <tr>\n",
       "      <th>97</th>\n",
       "      <td>2022-06-02 09:15:00</td>\n",
       "      <td>313.17</td>\n",
       "      <td>312.73</td>\n",
       "      <td>312.73</td>\n",
       "      <td>313.17</td>\n",
       "      <td>0</td>\n",
       "    </tr>\n",
       "    <tr>\n",
       "      <th>98</th>\n",
       "      <td>2022-06-02 09:30:00</td>\n",
       "      <td>313.17</td>\n",
       "      <td>312.73</td>\n",
       "      <td>312.78</td>\n",
       "      <td>313.41</td>\n",
       "      <td>1</td>\n",
       "    </tr>\n",
       "    <tr>\n",
       "      <th>99</th>\n",
       "      <td>2022-06-02 09:45:00</td>\n",
       "      <td>313.41</td>\n",
       "      <td>312.78</td>\n",
       "      <td>313.56</td>\n",
       "      <td>312.83</td>\n",
       "      <td>1</td>\n",
       "    </tr>\n",
       "    <tr>\n",
       "      <th>100</th>\n",
       "      <td>2022-06-02 10:00:00</td>\n",
       "      <td>312.83</td>\n",
       "      <td>313.56</td>\n",
       "      <td>313.94</td>\n",
       "      <td>313.89</td>\n",
       "      <td>1</td>\n",
       "    </tr>\n",
       "  </tbody>\n",
       "</table>\n",
       "</div>"
      ],
      "text/plain": [
       "                   time  open_BGI$  close_BGI$  close_price_target  \\\n",
       "96  2022-06-02 09:00:00     313.94      313.75              312.73   \n",
       "97  2022-06-02 09:15:00     313.17      312.73              312.73   \n",
       "98  2022-06-02 09:30:00     313.17      312.73              312.78   \n",
       "99  2022-06-02 09:45:00     313.41      312.78              313.56   \n",
       "100 2022-06-02 10:00:00     312.83      313.56              313.94   \n",
       "\n",
       "     open_price_target  behavior_target  \n",
       "96              313.17                0  \n",
       "97              313.17                0  \n",
       "98              313.41                1  \n",
       "99              312.83                1  \n",
       "100             313.89                1  "
      ]
     },
     "execution_count": 19,
     "metadata": {},
     "output_type": "execute_result"
    }
   ],
   "source": [
    "target_df.head()"
   ]
  },
  {
   "cell_type": "code",
   "execution_count": 20,
   "metadata": {},
   "outputs": [],
   "source": [
    "os.makedirs(output_dir, exist_ok=True)\n",
    "target_df.to_parquet(f'{output_dir}/timestamp_target.parquet')\n",
    "target_day_df.to_parquet(f'{output_dir}/daily_target.parquet')"
   ]
  },
  {
   "cell_type": "code",
   "execution_count": 21,
   "metadata": {},
   "outputs": [
    {
     "name": "stdout",
     "output_type": "stream",
     "text": [
      "Tabela saved as CSV: ../results/tables/csv\\Tabela_2_Exemplo do Target diário para o fechamento, abertura e comportamento do mercado.csv\n",
      "Tabela saved as CSV: ../results/tables/csv\\Tabela_3_Exemplo do Target timestamp para o fechamento, abertura e comportamento do mercado.csv\n"
     ]
    }
   ],
   "source": [
    "save_table(target_day_df.head(6), title = 'Exemplo do Target diário para o fechamento, abertura e comportamento do mercado')\n",
    "save_table(target_df.head(6), title = 'Exemplo do Target timestamp para o fechamento, abertura e comportamento do mercado')"
   ]
  },
  {
   "cell_type": "code",
   "execution_count": null,
   "metadata": {},
   "outputs": [],
   "source": []
  }
 ],
 "metadata": {
  "kernelspec": {
   "display_name": "pytorch_env",
   "language": "python",
   "name": "python3"
  },
  "language_info": {
   "codemirror_mode": {
    "name": "ipython",
    "version": 3
   },
   "file_extension": ".py",
   "mimetype": "text/x-python",
   "name": "python",
   "nbconvert_exporter": "python",
   "pygments_lexer": "ipython3",
   "version": "3.9.20"
  }
 },
 "nbformat": 4,
 "nbformat_minor": 2
}
