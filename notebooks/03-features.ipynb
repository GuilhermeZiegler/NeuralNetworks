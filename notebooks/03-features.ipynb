{
 "cells": [
  {
   "cell_type": "code",
   "execution_count": 1,
   "metadata": {},
   "outputs": [
    {
     "name": "stdout",
     "output_type": "stream",
     "text": [
      "Installing required packages: ['numpy', 'pandas', 'scikit-learn', 'joblib', 'pyarrow', 'fastparquet', 'plotly', 'matplotlib', 'MetaTrader5', 'tabulate']\n",
      "numpy is already installed.\n",
      "pandas is already installed.\n",
      "scikit-learn is already installed.\n",
      "joblib is already installed.\n",
      "pyarrow is already installed.\n",
      "fastparquet is already installed.\n",
      "plotly is already installed.\n",
      "matplotlib is already installed.\n",
      "MetaTrader5 is already installed.\n",
      "tabulate is already installed.\n",
      "All packages are verified.\n"
     ]
    }
   ],
   "source": [
    "import sys\n",
    "import os\n",
    "sys.path.append(os.path.abspath('../scripts'))\n",
    "\n",
    "from myFunctions import install_packages, save_table \n",
    "install_packages()\n",
    "from tabulate import tabulate\n",
    "import pandas as pd\n",
    "import numpy as np\n",
    "import warnings\n",
    "warnings.simplefilter(action='ignore', category=FutureWarning)\n",
    "pd.set_option('display.max_columns', None)\n"
   ]
  },
  {
   "cell_type": "code",
   "execution_count": 2,
   "metadata": {},
   "outputs": [],
   "source": [
    "\n",
    "### folders \n",
    "input_dir = os.path.join('..', 'data', 'preprocess')\n",
    "output_dir = os.path.join('..', 'data', 'features')\n"
   ]
  },
  {
   "cell_type": "code",
   "execution_count": 3,
   "metadata": {},
   "outputs": [],
   "source": [
    "# Function to calculate OBV\n",
    "def calculate_obv(df):\n",
    "    \"\"\"\n",
    "    Calculate the On-Balance Volume (OBV) for each asset and return a DataFrame with columns 'OBV_<asset>'.\n",
    "    \n",
    "    OBV is calculated by summing the volume when the price closes higher than the previous close \n",
    "    and subtracting it when the price closes lower. If the price is unchanged, OBV remains the same.\n",
    "\n",
    "    Parameters:\n",
    "    - df (pd.DataFrame): A DataFrame containing columns for close prices and tick volumes.\n",
    "\n",
    "    Returns:\n",
    "    - pd.DataFrame: A DataFrame containing OBV for each asset.\n",
    "    \"\"\"\n",
    "    print(\"Creating OBV indicator...\")\n",
    "    assets = {col.split('_')[1] for col in df.columns if col.startswith(\"close_\")}\n",
    "    for asset in assets:\n",
    "        close_col = f\"close_{asset}\"\n",
    "        volume_col = f\"tick_volume_{asset}\"\n",
    "        if close_col in df.columns and volume_col in df.columns:\n",
    "            obv = [0]\n",
    "            for i in range(1, len(df)):\n",
    "                if df[close_col].iloc[i] > df[close_col].iloc[i - 1]:\n",
    "                    obv.append(obv[-1] + df[volume_col].iloc[i])\n",
    "                elif df[close_col].iloc[i] < df[close_col].iloc[i - 1]:\n",
    "                    obv.append(obv[-1] - df[volume_col].iloc[i])\n",
    "                else:\n",
    "                    obv.append(obv[-1])\n",
    "            df[f\"OBV_{asset}\"] = obv\n",
    "            print(f\"OBV_{asset}\")\n",
    "\n",
    "\n",
    "    return df\n",
    "\n",
    "# Function to calculate RSI\n",
    "def calculate_rsi(df, period=14):\n",
    "    \"\"\"\n",
    "    Calculate the Relative Strength Index (RSI) for each asset and return a DataFrame with columns 'RSI_<asset>'.\n",
    "    \n",
    "    RSI measures the speed and magnitude of price movements. It is calculated by dividing \n",
    "    the average gain by the average loss over a specified period and scaling the result to a 0-100 range.\n",
    "\n",
    "    Parameters:\n",
    "    - df (pd.DataFrame): A DataFrame containing columns for close prices.\n",
    "    - period (int): The lookback period for RSI calculation (default: 14).\n",
    "\n",
    "    Returns:\n",
    "    - pd.DataFrame: A DataFrame containing RSI for each asset.\n",
    "    \"\"\"\n",
    "    print(\"Creating RSI indicator\")\n",
    "    assets = {col.split('_')[1] for col in df.columns if col.startswith(\"close_\")}\n",
    "    for asset in assets:\n",
    "        close_col = f\"close_{asset}\"\n",
    "        if close_col in df.columns:\n",
    "            delta = df[close_col].diff()\n",
    "            gain = delta.where(delta > 0, 0)\n",
    "            loss = -delta.where(delta < 0, 0)\n",
    "\n",
    "            avg_gain = gain.rolling(window=period, min_periods=1).mean()\n",
    "            avg_loss = loss.rolling(window=period, min_periods=1).mean()\n",
    "\n",
    "            rs = avg_gain / avg_loss.replace(0, float('inf'))\n",
    "            rsi = 100 - (100 / (1 + rs))\n",
    "\n",
    "            rsi[(avg_gain == 0) & (avg_loss == 0)] = None\n",
    "            rsi = rsi.fillna(method='ffill')\n",
    "\n",
    "            df[f\"RSI_{asset}\"] = rsi\n",
    "            print(f\"RSI_{asset}\")\n",
    "    return df\n",
    "\n",
    "\n",
    "# Function to calculate ATR\n",
    "def calculate_atr(df, period=14):\n",
    "    \"\"\"\n",
    "    Calculate the Average True Range (ATR) for each asset and return a DataFrame with columns 'ATR_<asset>'.\n",
    "    \n",
    "    ATR measures market volatility by calculating the average of the True Range (TR), \n",
    "    which is the greatest of the following:\n",
    "    - High - Low\n",
    "    - High - Previous Close\n",
    "    - Low - Previous Close\n",
    "\n",
    "    Parameters:\n",
    "    - df (pd.DataFrame): A DataFrame containing columns for high, low, and close prices.\n",
    "    - period (int): The lookback period for ATR calculation (default: 14).\n",
    "\n",
    "    Returns:\n",
    "    - pd.DataFrame: A DataFrame containing ATR for each asset.\n",
    "    \"\"\"\n",
    "\n",
    "    print(\"Creating ATR indicador...\")\n",
    "    assets = {col.split('_')[1] for col in df.columns if col.startswith(\"high_\")}\n",
    "    for asset in assets:\n",
    "        high_col = f\"high_{asset}\"\n",
    "        low_col = f\"low_{asset}\"\n",
    "        close_col = f\"close_{asset}\"\n",
    "        \n",
    "        if high_col in df.columns and low_col in df.columns and close_col in df.columns:\n",
    "            high = df[high_col]\n",
    "            low = df[low_col]\n",
    "            close = df[close_col].shift(1)\n",
    "            \n",
    "            tr = pd.concat([high - low, abs(high - close), abs(low - close)], axis=1).max(axis=1)\n",
    "            atr = tr.rolling(window=period, min_periods=1).mean()\n",
    "            df[f\"ATR_{asset}\"] = atr\n",
    "            print(f\"ATR_{asset}\")\n",
    "    return df\n",
    "\n",
    "# Function to calculate VWAP\n",
    "def calculate_vwap(df):\n",
    "    \"\"\"\n",
    "    Calculate the Volume-Weighted Average Price (VWAP) for each asset and return a DataFrame with columns 'VWAP_<asset>'.\n",
    "    \n",
    "    VWAP is calculated by dividing the cumulative sum of price * volume by the cumulative sum of volume.\n",
    "\n",
    "    Parameters:\n",
    "    - df (pd.DataFrame): A DataFrame containing columns for close prices and tick volumes.\n",
    "\n",
    "    Returns:\n",
    "    - pd.DataFrame: A DataFrame containing VWAP for each asset.\n",
    "    \"\"\"\n",
    "    \n",
    "    print(\"Creating VWAP indicador...\")\n",
    "    assets = {col.split('_')[1] for col in df.columns if col.startswith(\"close_\")}\n",
    "    for asset in assets:\n",
    "        close_col = f\"close_{asset}\"\n",
    "        volume_col = f\"tick_volume_{asset}\"\n",
    "        \n",
    "        if close_col in df.columns and volume_col in df.columns:\n",
    "            cum_vol = df[volume_col].cumsum()\n",
    "            cum_price_vol = (df[close_col] * df[volume_col]).cumsum()\n",
    "            df[f\"VWAP_{asset}\"] = cum_price_vol / cum_vol\n",
    "            print(f\"VWAP_{asset}\")\n",
    "    return df\n",
    "\n",
    "def calculate_emas(df, periods=[9, 21, 55]):\n",
    "    \"\"\"\n",
    "    Calculate Exponential Moving Averages (EMAs) for each asset and return a DataFrame with columns 'EMA<period>_<asset>'.\n",
    "    \n",
    "    EMAs give more weight to recent prices compared to older ones. The function calculates EMAs for \n",
    "    multiple periods for each asset.\n",
    "\n",
    "    Parameters:\n",
    "    - df (pd.DataFrame): A DataFrame containing columns for close prices.\n",
    "    - periods (list): A list of periods for EMA calculation (default: [9, 21, 55]).\n",
    "\n",
    "    Returns:\n",
    "    - pd.DataFrame: A DataFrame containing EMAs for each asset and period.\n",
    "    \"\"\"\n",
    "    print('Creating EMAs')\n",
    "    assets = {col.split('_')[1] for col in df.columns if col.startswith(\"close_\")}\n",
    "    for asset in assets:\n",
    "        close_col = f\"close_{asset}\"\n",
    "        if close_col in df.columns:\n",
    "            for period in periods:\n",
    "                df[f\"EMA{period}_{asset}\"] = df[close_col].ewm(span=period, adjust=False).mean()\n",
    "                print(f'EMA{period}_{asset}\"EMA')\n",
    "    \n",
    "    return df\n"
   ]
  },
  {
   "cell_type": "code",
   "execution_count": 5,
   "metadata": {},
   "outputs": [
    {
     "name": "stdout",
     "output_type": "stream",
     "text": [
      "df carregado (22392, 43)\n"
     ]
    }
   ],
   "source": [
    "df = pd.read_parquet(f'{input_dir}/data.parquet')\n",
    "print('df carregado', df.shape)\n"
   ]
  },
  {
   "cell_type": "code",
   "execution_count": 6,
   "metadata": {},
   "outputs": [
    {
     "name": "stdout",
     "output_type": "stream",
     "text": [
      "Creating OBV indicator...\n",
      "OBV_IBOV\n",
      "OBV_BGI$\n",
      "OBV_GOLD11\n",
      "OBV_CCM$\n",
      "OBV_IVVB11\n",
      "OBV_ICF$\n",
      "Creating RSI indicator\n",
      "RSI_IBOV\n",
      "RSI_BGI$\n",
      "RSI_GOLD11\n",
      "RSI_CCM$\n",
      "RSI_IVVB11\n",
      "RSI_ICF$\n",
      "Creating ATR indicador...\n",
      "ATR_IBOV\n",
      "ATR_BGI$\n",
      "ATR_GOLD11\n",
      "ATR_CCM$\n",
      "ATR_IVVB11\n",
      "ATR_ICF$\n",
      "Creating VWAP indicador...\n",
      "VWAP_IBOV\n",
      "VWAP_BGI$\n",
      "VWAP_GOLD11\n",
      "VWAP_CCM$\n",
      "VWAP_IVVB11\n",
      "VWAP_ICF$\n",
      "Creating EMAs\n",
      "EMA9_IBOV\"EMA\n",
      "EMA21_IBOV\"EMA\n",
      "EMA55_IBOV\"EMA\n",
      "EMA9_BGI$\"EMA\n",
      "EMA21_BGI$\"EMA\n",
      "EMA55_BGI$\"EMA\n",
      "EMA9_GOLD11\"EMA\n",
      "EMA21_GOLD11\"EMA\n",
      "EMA55_GOLD11\"EMA\n",
      "EMA9_CCM$\"EMA\n",
      "EMA21_CCM$\"EMA\n",
      "EMA55_CCM$\"EMA\n",
      "EMA9_IVVB11\"EMA\n",
      "EMA21_IVVB11\"EMA\n",
      "EMA55_IVVB11\"EMA\n",
      "EMA9_ICF$\"EMA\n",
      "EMA21_ICF$\"EMA\n",
      "EMA55_ICF$\"EMA\n"
     ]
    }
   ],
   "source": [
    "df = calculate_obv(df)\n",
    "df = calculate_rsi(df)\n",
    "df = calculate_atr(df)\n",
    "df = calculate_vwap(df)\n",
    "df = calculate_emas(df)\n"
   ]
  },
  {
   "cell_type": "code",
   "execution_count": 7,
   "metadata": {},
   "outputs": [
    {
     "name": "stdout",
     "output_type": "stream",
     "text": [
      "All Features were created (22392, 85)\n"
     ]
    }
   ],
   "source": [
    "print('All Features were created', df.shape)"
   ]
  },
  {
   "cell_type": "code",
   "execution_count": 8,
   "metadata": {},
   "outputs": [
    {
     "name": "stdout",
     "output_type": "stream",
     "text": [
      "Data processed to keep first complete trading days (22356, 85)\n",
      "First date: 2022-06-02 09:00:00\n"
     ]
    }
   ],
   "source": [
    "first_non_null_date = df[df.notna().all(axis=1)].iloc[0]['time']\n",
    "next_day = first_non_null_date + pd.Timedelta(days=1)\n",
    "next_day = next_day.replace(hour=9, minute=0, second=0, microsecond=0)  # Linha alterada\n",
    "next_day_row = df[df['time'].dt.date == next_day.date()].iloc[0]\n",
    "df = df[df['time'] >= next_day]\n",
    "print('Data processed to keep first complete trading days', df.shape)\n",
    "print('First date:', next_day)"
   ]
  },
  {
   "cell_type": "code",
   "execution_count": 9,
   "metadata": {},
   "outputs": [
    {
     "name": "stdout",
     "output_type": "stream",
     "text": [
      "nan values found: (0, 85)\n"
     ]
    }
   ],
   "source": [
    "print('nan values found:', df[df.isna().any(axis=1)].shape)"
   ]
  },
  {
   "cell_type": "code",
   "execution_count": 15,
   "metadata": {},
   "outputs": [],
   "source": [
    "os.makedirs(output_dir, exist_ok=True)\n",
    "df.to_parquet(f'{output_dir}features.parquet')"
   ]
  },
  {
   "cell_type": "code",
   "execution_count": 11,
   "metadata": {},
   "outputs": [
    {
     "data": {
      "text/plain": [
       "'..\\\\data\\\\features'"
      ]
     },
     "execution_count": 11,
     "metadata": {},
     "output_type": "execute_result"
    }
   ],
   "source": [
    "output_dir"
   ]
  },
  {
   "cell_type": "code",
   "execution_count": null,
   "metadata": {},
   "outputs": [],
   "source": []
  }
 ],
 "metadata": {
  "kernelspec": {
   "display_name": "base",
   "language": "python",
   "name": "python3"
  },
  "language_info": {
   "codemirror_mode": {
    "name": "ipython",
    "version": 3
   },
   "file_extension": ".py",
   "mimetype": "text/x-python",
   "name": "python",
   "nbconvert_exporter": "python",
   "pygments_lexer": "ipython3",
   "version": "3.10.9"
  }
 },
 "nbformat": 4,
 "nbformat_minor": 2
}
