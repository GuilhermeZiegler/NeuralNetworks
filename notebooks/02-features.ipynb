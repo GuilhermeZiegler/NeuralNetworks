{
 "cells": [
  {
   "cell_type": "code",
   "execution_count": null,
   "metadata": {
    "vscode": {
     "languageId": "plaintext"
    }
   },
   "outputs": [],
   "source": [
    "import sys\n",
    "import subprocess\n",
    "def install_packages():\n",
    "    required_packages = [\n",
    "        \"MetaTrader5\",\n",
    "        \"numpy\",\n",
    "        \"pandas\",\n",
    "        \"scikit-learn\",\n",
    "        \"joblib\",\n",
    "        \"pyarrow\",\n",
    "        \"fastparquet\"\n",
    "    ]\n",
    "\n",
    "    for package in required_packages:\n",
    "        try:\n",
    "            __import__(package)\n",
    "        except ImportError:\n",
    "            print(f\"Instalando {package}...\")\n",
    "            subprocess.check_call([sys.executable, \"-m\", \"pip\", \"install\", package])\n",
    "    print(\"Todos os pacotes estão instalados.\")\n",
    "\n",
    "install_packages()"
   ]
  }
 ],
 "metadata": {
  "language_info": {
   "name": "python"
  }
 },
 "nbformat": 4,
 "nbformat_minor": 2
}
